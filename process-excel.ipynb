{
 "cells": [
  {
   "cell_type": "markdown",
   "metadata": {},
   "source": [
    "# Pre-processing Data Set"
   ]
  },
  {
   "cell_type": "code",
   "execution_count": 2,
   "metadata": {},
   "outputs": [],
   "source": [
    "import json\n",
    "import pandas as pd\n",
    "\n",
    "mer_df = pd.read_excel(\"datasets/MER-transaction.xlsx\")\n",
    "mrw_df = pd.read_excel(\"datasets/MRW-transaction.xlsx\")\n",
    "\n",
    "# Display the first few rows of each dataframe to understand their structure\n",
    "mer_df_head = mer_df.head()\n",
    "mrw_df_head = mrw_df.head()"
   ]
  },
  {
   "cell_type": "markdown",
   "metadata": {},
   "source": [
    "### Mobile Rewards Workshop"
   ]
  },
  {
   "cell_type": "code",
   "execution_count": 4,
   "metadata": {},
   "outputs": [
    {
     "data": {
      "text/html": [
       "<div>\n",
       "<style scoped>\n",
       "    .dataframe tbody tr th:only-of-type {\n",
       "        vertical-align: middle;\n",
       "    }\n",
       "\n",
       "    .dataframe tbody tr th {\n",
       "        vertical-align: top;\n",
       "    }\n",
       "\n",
       "    .dataframe thead th {\n",
       "        text-align: right;\n",
       "    }\n",
       "</style>\n",
       "<table border=\"1\" class=\"dataframe\">\n",
       "  <thead>\n",
       "    <tr style=\"text-align: right;\">\n",
       "      <th></th>\n",
       "      <th>Distributor</th>\n",
       "      <th>ProductName</th>\n",
       "      <th>ProductSKU</th>\n",
       "      <th>ScanDate</th>\n",
       "      <th>UserId</th>\n",
       "    </tr>\n",
       "  </thead>\n",
       "  <tbody>\n",
       "    <tr>\n",
       "      <th>0</th>\n",
       "      <td>B</td>\n",
       "      <td>Mobil Super AIO - Charcoal</td>\n",
       "      <td>Mobil Super AIO - 7L</td>\n",
       "      <td>2023-11-29</td>\n",
       "      <td>EXL_1692444744991</td>\n",
       "    </tr>\n",
       "    <tr>\n",
       "      <th>1</th>\n",
       "      <td>B</td>\n",
       "      <td>Mobil Super AIO - Charcoal</td>\n",
       "      <td>Mobil Super AIO - 7L</td>\n",
       "      <td>2023-11-29</td>\n",
       "      <td>EXL_1692444744991</td>\n",
       "    </tr>\n",
       "    <tr>\n",
       "      <th>2</th>\n",
       "      <td>B</td>\n",
       "      <td>Mobil Super AIO - Charcoal</td>\n",
       "      <td>Mobil Super AIO - 7L</td>\n",
       "      <td>2023-11-29</td>\n",
       "      <td>EXL_1692444744991</td>\n",
       "    </tr>\n",
       "    <tr>\n",
       "      <th>3</th>\n",
       "      <td>B</td>\n",
       "      <td>Mobil Super AIO - Charcoal</td>\n",
       "      <td>Mobil Super AIO - 7L</td>\n",
       "      <td>2023-11-29</td>\n",
       "      <td>EXL_1692444744991</td>\n",
       "    </tr>\n",
       "    <tr>\n",
       "      <th>4</th>\n",
       "      <td>B</td>\n",
       "      <td>Mobil Super AIO - Charcoal</td>\n",
       "      <td>Mobil Super AIO - 7L</td>\n",
       "      <td>2023-11-29</td>\n",
       "      <td>EXL_1692444744991</td>\n",
       "    </tr>\n",
       "  </tbody>\n",
       "</table>\n",
       "</div>"
      ],
      "text/plain": [
       "  Distributor                 ProductName            ProductSKU   ScanDate  \\\n",
       "0           B  Mobil Super AIO - Charcoal  Mobil Super AIO - 7L 2023-11-29   \n",
       "1           B  Mobil Super AIO - Charcoal  Mobil Super AIO - 7L 2023-11-29   \n",
       "2           B  Mobil Super AIO - Charcoal  Mobil Super AIO - 7L 2023-11-29   \n",
       "3           B  Mobil Super AIO - Charcoal  Mobil Super AIO - 7L 2023-11-29   \n",
       "4           B  Mobil Super AIO - Charcoal  Mobil Super AIO - 7L 2023-11-29   \n",
       "\n",
       "              UserId  \n",
       "0  EXL_1692444744991  \n",
       "1  EXL_1692444744991  \n",
       "2  EXL_1692444744991  \n",
       "3  EXL_1692444744991  \n",
       "4  EXL_1692444744991  "
      ]
     },
     "execution_count": 4,
     "metadata": {},
     "output_type": "execute_result"
    }
   ],
   "source": [
    "mrw_df_head"
   ]
  },
  {
   "cell_type": "code",
   "execution_count": 3,
   "metadata": {},
   "outputs": [
    {
     "name": "stdout",
     "output_type": "stream",
     "text": [
      "|    | Distributor   | ProductName                | ProductSKU           | ScanDate            | UserId            |\n",
      "|---:|:--------------|:---------------------------|:---------------------|:--------------------|:------------------|\n",
      "|  0 | B             | Mobil Super AIO - Charcoal | Mobil Super AIO - 7L | 2023-11-29 00:00:00 | EXL_1692444744991 |\n",
      "|  1 | B             | Mobil Super AIO - Charcoal | Mobil Super AIO - 7L | 2023-11-29 00:00:00 | EXL_1692444744991 |\n",
      "|  2 | B             | Mobil Super AIO - Charcoal | Mobil Super AIO - 7L | 2023-11-29 00:00:00 | EXL_1692444744991 |\n",
      "|  3 | B             | Mobil Super AIO - Charcoal | Mobil Super AIO - 7L | 2023-11-29 00:00:00 | EXL_1692444744991 |\n",
      "|  4 | B             | Mobil Super AIO - Charcoal | Mobil Super AIO - 7L | 2023-11-29 00:00:00 | EXL_1692444744991 |\n"
     ]
    }
   ],
   "source": [
    "# keep in markdown\n",
    "# then send to the prompt as \"retrieved document\"?\n",
    "print(mrw_df_head.to_markdown())"
   ]
  }
 ],
 "metadata": {
  "kernelspec": {
   "display_name": "Python 3",
   "language": "python",
   "name": "python3"
  },
  "language_info": {
   "codemirror_mode": {
    "name": "ipython",
    "version": 3
   },
   "file_extension": ".py",
   "mimetype": "text/x-python",
   "name": "python",
   "nbconvert_exporter": "python",
   "pygments_lexer": "ipython3",
   "version": "3.10.4"
  },
  "orig_nbformat": 4
 },
 "nbformat": 4,
 "nbformat_minor": 2
}
