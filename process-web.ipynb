{
 "cells": [
  {
   "cell_type": "markdown",
   "metadata": {},
   "source": [
    "#### Import Libraries"
   ]
  },
  {
   "cell_type": "code",
   "execution_count": 4,
   "metadata": {},
   "outputs": [],
   "source": [
    "import requests\n",
    "from bs4 import BeautifulSoup\n",
    "import json\n",
    "import os"
   ]
  },
  {
   "cell_type": "markdown",
   "metadata": {},
   "source": [
    "#### Define URLs to scrape"
   ]
  },
  {
   "cell_type": "code",
   "execution_count": 5,
   "metadata": {},
   "outputs": [],
   "source": [
    "url_groups = [\n",
    "    {\n",
    "        \"name\" : \"mobil-1\",\n",
    "        \"urls\": [\n",
    "            'https://www.mobil.com/en/sap/our-products/mobil-1',\n",
    "            'https://www.mobil.com/en/sap/our-products/products/mobil-1-esp-5w30',\n",
    "            'https://www.mobil.com/en/sap/our-products/products/mobil-1-racing-4t-10w40',\n",
    "            'https://www.mobil.com/en/sap/our-products/products/mobil-1-esp-0w-30',\n",
    "            'https://www.mobil.com/en/sap/personal-vehicles/car/recommended-for-your-car',\n",
    "        ]\n",
    "    },\n",
    "    {\n",
    "        \"name\" : \"mobil-super-product\",\n",
    "        \"urls\": [\n",
    "            'https://www.mobil.com/en/sap/our-products/mobil-super',\n",
    "        ]\n",
    "    },\n",
    "    {\n",
    "        \"name\": \"mobil-super-moto-products\",\n",
    "        \"urls\": [\n",
    "            'https://www.mobil.com/en/sap/our-products/mobil-super-moto',\n",
    "            'https://www.mobil.com/en/sap/our-products/products/mobil-super-moto-scooter-gear-oil',\n",
    "            'https://www.mobil.com/en/sap/our-products/products/mobil-super-moto-20w50',\n",
    "            'https://www.mobil.com/en/sap/our-products/products/mobil-super-moto-20w40',\n",
    "            'https://www.mobil.com/en/sap/our-products/products/mobil-super-moto-15w40',\n",
    "            'https://www.mobil.com/en/sap/our-products/products/mobil-super-moto-10w-40',\n",
    "            'https://www.mobil.com/en/sap/our-products/products/mobil-super-moto-10w30',\n",
    "            'https://www.mobil.com/en/sap/our-products/products/mobil-super-moto-scooter-10w30',\n",
    "            'https://www.mobil.com/en/sap/our-products/products/mobil-super-moto-scooter-10w-40',\n",
    "            'https://www.mobil.com/en/sap/personal-vehicles/bike-and-scooter/tips-to-change-motorbike-engine-oil',\n",
    "            'https://www.mobil.com/en/sap/personal-vehicles/bike-and-scooter/changing-motorbike-engine-oil',\n",
    "            'https://www.mobil.com/en/sap/personal-vehicles/bike-and-scooter/benchmarks-to-change-motorcycle-engine-oils',\n",
    "        ]\n",
    "    },\n",
    "    {\n",
    "        \"name\": \"mobil-delvac-product\",\n",
    "        \"urls\": [\n",
    "            'https://www.mobil.com/en/sap/our-products/mobil-delvac',\n",
    "            'https://www.mobil.com/en/sap/our-products/why-mobil-delvac',\n",
    "        ]\n",
    "    },\n",
    "    {\n",
    "        \"name\" : \"why-mobil\",\n",
    "        \"urls\": [\n",
    "            'https://www.mobil.com/en/sap/our-products/why-mobil',\n",
    "            'https://www.mobil.com/en/sap/our-products/why-mobil/our-purpose-advancing-productivity',\n",
    "            'https://www.mobil.com/en/sap/our-products/why-mobil/driving-performance-and-protection'\n",
    "        ]\n",
    "    }\n",
    "]"
   ]
  },
  {
   "cell_type": "markdown",
   "metadata": {},
   "source": [
    "#### Define reusable functions for processing text"
   ]
  },
  {
   "cell_type": "code",
   "execution_count": 6,
   "metadata": {},
   "outputs": [],
   "source": [
    "# Directory to save JSON files\n",
    "def make_dir(output_dir):\n",
    "    if not os.path.exists(output_dir):\n",
    "        os.makedirs(output_dir)\n",
    "\n",
    "# Function to chunk text into segments of up to 1000 words\n",
    "def chunk_text(text, chunk_size=1000):\n",
    "    words = text.split()\n",
    "    chunks = [' '.join(words[i:i + chunk_size]) for i in range(0, len(words), chunk_size)]\n",
    "    return chunks\n",
    "\n",
    "# Function to extract text from various HTML tags\n",
    "def extract_text(soup):\n",
    "    paragraphs = soup.find_all('p')\n",
    "    divs = soup.find_all('div')\n",
    "    list_items = soup.find_all('li')\n",
    "\n",
    "    texts = [tag.text for tag in paragraphs + divs + list_items]\n",
    "    return ' '.join(texts)"
   ]
  },
  {
   "cell_type": "markdown",
   "metadata": {},
   "source": [
    "#### Scrape each URL and chunk to multiple 1000 characters document"
   ]
  },
  {
   "cell_type": "code",
   "execution_count": 7,
   "metadata": {},
   "outputs": [
    {
     "name": "stdout",
     "output_type": "stream",
     "text": [
      "Processed mobil-1 URL 1/5: https://www.mobil.com/en/sap/our-products/mobil-1\n",
      "Processed mobil-1 URL 2/5: https://www.mobil.com/en/sap/our-products/products/mobil-1-esp-5w30\n",
      "Processed mobil-1 URL 3/5: https://www.mobil.com/en/sap/our-products/products/mobil-1-racing-4t-10w40\n",
      "Processed mobil-1 URL 4/5: https://www.mobil.com/en/sap/our-products/products/mobil-1-esp-0w-30\n",
      "Processed mobil-1 URL 5/5: https://www.mobil.com/en/sap/personal-vehicles/car/recommended-for-your-car\n",
      "Processed mobil-super-product URL 1/1: https://www.mobil.com/en/sap/our-products/mobil-super\n",
      "Processed mobil-super-moto-products URL 1/12: https://www.mobil.com/en/sap/our-products/mobil-super-moto\n",
      "Processed mobil-super-moto-products URL 2/12: https://www.mobil.com/en/sap/our-products/products/mobil-super-moto-scooter-gear-oil\n",
      "Processed mobil-super-moto-products URL 3/12: https://www.mobil.com/en/sap/our-products/products/mobil-super-moto-20w50\n",
      "Processed mobil-super-moto-products URL 4/12: https://www.mobil.com/en/sap/our-products/products/mobil-super-moto-20w40\n",
      "Processed mobil-super-moto-products URL 5/12: https://www.mobil.com/en/sap/our-products/products/mobil-super-moto-15w40\n",
      "Processed mobil-super-moto-products URL 6/12: https://www.mobil.com/en/sap/our-products/products/mobil-super-moto-10w-40\n",
      "Processed mobil-super-moto-products URL 7/12: https://www.mobil.com/en/sap/our-products/products/mobil-super-moto-10w30\n",
      "Processed mobil-super-moto-products URL 8/12: https://www.mobil.com/en/sap/our-products/products/mobil-super-moto-scooter-10w30\n",
      "Processed mobil-super-moto-products URL 9/12: https://www.mobil.com/en/sap/our-products/products/mobil-super-moto-scooter-10w-40\n",
      "Processed mobil-super-moto-products URL 10/12: https://www.mobil.com/en/sap/personal-vehicles/bike-and-scooter/tips-to-change-motorbike-engine-oil\n",
      "Processed mobil-super-moto-products URL 11/12: https://www.mobil.com/en/sap/personal-vehicles/bike-and-scooter/changing-motorbike-engine-oil\n",
      "Processed mobil-super-moto-products URL 12/12: https://www.mobil.com/en/sap/personal-vehicles/bike-and-scooter/benchmarks-to-change-motorcycle-engine-oils\n",
      "Processed mobil-delvac-product URL 1/2: https://www.mobil.com/en/sap/our-products/mobil-delvac\n",
      "Processed mobil-delvac-product URL 2/2: https://www.mobil.com/en/sap/our-products/why-mobil-delvac\n",
      "Processed why-mobil URL 1/3: https://www.mobil.com/en/sap/our-products/why-mobil\n",
      "Processed why-mobil URL 2/3: https://www.mobil.com/en/sap/our-products/why-mobil/our-purpose-advancing-productivity\n",
      "Processed why-mobil URL 3/3: https://www.mobil.com/en/sap/our-products/why-mobil/driving-performance-and-protection\n"
     ]
    }
   ],
   "source": [
    "output_dir = 'processed'\n",
    "make_dir(output_dir)\n",
    "\n",
    "# Process each URL group\n",
    "for group in url_groups:\n",
    "    group_name = group['name']\n",
    "    urls = group['urls']\n",
    "    \n",
    "    for i, url in enumerate(urls):\n",
    "        response = requests.get(url)\n",
    "        soup = BeautifulSoup(response.text, 'html.parser')\n",
    "        \n",
    "        text = extract_text(soup)\n",
    "\n",
    "        # Chunk the text\n",
    "        chunks = chunk_text(text)\n",
    "\n",
    "        # Save each chunk to a JSON file\n",
    "        for j, chunk in enumerate(chunks):\n",
    "            file_name = f\"{output_dir}/{group_name}_url_{i+1}_chunk_{j+1}.json\"\n",
    "            with open(file_name, 'w') as f:\n",
    "                json.dump({\"topic\": group_name, \"source\": url , \"content\": chunk}, f, indent=4)\n",
    "\n",
    "        print(f\"Processed {group_name} URL {i+1}/{len(urls)}: {url}\")"
   ]
  }
 ],
 "metadata": {
  "kernelspec": {
   "display_name": "Python 3",
   "language": "python",
   "name": "python3"
  },
  "language_info": {
   "codemirror_mode": {
    "name": "ipython",
    "version": 3
   },
   "file_extension": ".py",
   "mimetype": "text/x-python",
   "name": "python",
   "nbconvert_exporter": "python",
   "pygments_lexer": "ipython3",
   "version": "3.10.4"
  },
  "orig_nbformat": 4
 },
 "nbformat": 4,
 "nbformat_minor": 2
}
